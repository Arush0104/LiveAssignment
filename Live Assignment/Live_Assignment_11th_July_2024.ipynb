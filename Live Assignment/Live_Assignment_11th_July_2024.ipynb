{
 "cells": [
  {
   "cell_type": "markdown",
   "id": "0a324a41",
   "metadata": {},
   "source": [
    "<h3>1.6. Write a program to display the appropriate message as per the color of signal(RED-Stop/Yellow-Stay/\n",
    "Green-Go) at the road crossing.</h3>"
   ]
  },
  {
   "cell_type": "code",
   "execution_count": 96,
   "id": "4f45d6fd",
   "metadata": {},
   "outputs": [
    {
     "name": "stdout",
     "output_type": "stream",
     "text": [
      "Stop\n"
     ]
    }
   ],
   "source": [
    "lights = {'Green': 'Go', 'Yellow': 'Stay', 'Red': 'Stop'}\n",
    "light_at_traffic = 'Red'\n",
    "\n",
    "# Iterate over keys using the `items()` method\n",
    "for key, value in lights.items():\n",
    "    if key == 'Red':\n",
    "        print(value) \n",
    "        break \n"
   ]
  },
  {
   "cell_type": "markdown",
   "id": "2ae7a066",
   "metadata": {},
   "source": [
    "<h3>1.7. Write a program to create a simple calculator performing only four basic operations(+,-,/,*)</h3>"
   ]
  },
  {
   "cell_type": "code",
   "execution_count": 108,
   "id": "5d89ad3f",
   "metadata": {},
   "outputs": [
    {
     "data": {
      "text/plain": [
       "30"
      ]
     },
     "execution_count": 108,
     "metadata": {},
     "output_type": "execute_result"
    }
   ],
   "source": [
    "def calc(*args,sym):\n",
    "    if sym=='+':\n",
    "        sum =  args[0]\n",
    "        for i in args[1:]:\n",
    "            sum+=i\n",
    "        return sum\n",
    "    elif sym=='-':\n",
    "        diff =  args[0]\n",
    "        for i in args[1:]:\n",
    "            diff-=i\n",
    "        return diff\n",
    "    elif sym=='*':\n",
    "        prod =  args[0]\n",
    "        for i in args[1:]:\n",
    "            prod*=i\n",
    "        return prod\n",
    "    elif sym=='/':\n",
    "        div =  args[0]\n",
    "        for i in args[1:]:\n",
    "            div/=i\n",
    "        return div\n",
    "    elif sym=='%':\n",
    "        mod = args[0]\n",
    "        for i in args[1:]:\n",
    "            mod%=i\n",
    "        return mod\n",
    "    else:\n",
    "        print(\"Error\")\n",
    "calc(10,3,sym = '*')\n",
    "    "
   ]
  },
  {
   "cell_type": "markdown",
   "id": "987d69dd",
   "metadata": {},
   "source": [
    "<h3>1.8. Write a program to find the larger of the three pre-specified numbers using ternary operators.</h3>"
   ]
  },
  {
   "cell_type": "code",
   "execution_count": 111,
   "id": "fd813845",
   "metadata": {},
   "outputs": [
    {
     "data": {
      "text/plain": [
       "6"
      ]
     },
     "execution_count": 111,
     "metadata": {},
     "output_type": "execute_result"
    }
   ],
   "source": [
    "def great(a,b,c):\n",
    "    s = c if (a if a>b else b)<c else (a if a>b else b)\n",
    "    return s\n",
    "great(6,3,4)"
   ]
  },
  {
   "cell_type": "markdown",
   "id": "275afc86",
   "metadata": {},
   "source": [
    "<h3>Write a program to find the factors of a whole number using a while loop.</h3>"
   ]
  },
  {
   "cell_type": "code",
   "execution_count": 115,
   "id": "e58dac23",
   "metadata": {},
   "outputs": [
    {
     "name": "stdout",
     "output_type": "stream",
     "text": [
      "1 2 3 4 6 8 12 24 "
     ]
    }
   ],
   "source": [
    "def factors(num):\n",
    "    i=1\n",
    "    while(i<=num):\n",
    "        if num%i ==0:\n",
    "            print(i,end=\" \")\n",
    "        i+=1\n",
    "factors(24)"
   ]
  },
  {
   "cell_type": "markdown",
   "id": "fc56abae",
   "metadata": {},
   "source": [
    "<h3>Write a program to find the sum of all the positive numbers entered by the user. As soon as the user\n",
    "enters a negative number, stop taking in any further input from the user and display the sum .</h3>"
   ]
  },
  {
   "cell_type": "code",
   "execution_count": 122,
   "id": "7ab84e67",
   "metadata": {},
   "outputs": [
    {
     "name": "stdout",
     "output_type": "stream",
     "text": [
      "1 2 3 4 "
     ]
    },
    {
     "data": {
      "text/plain": [
       "10"
      ]
     },
     "execution_count": 122,
     "metadata": {},
     "output_type": "execute_result"
    }
   ],
   "source": [
    "def take_input():\n",
    "    user = 0\n",
    "    sum=0\n",
    "    while True:\n",
    "        user = int(input())\n",
    "        if(user>=0):\n",
    "            print(user, end=\" \")\n",
    "            sum+=user\n",
    "        else:\n",
    "            return sum\n",
    "            break\n",
    "take_input()"
   ]
  },
  {
   "cell_type": "markdown",
   "id": "d8da591c",
   "metadata": {},
   "source": [
    "<h3>1.11. Write a program to find prime numbers between 2 to 100 using nested for loops.</h3>"
   ]
  },
  {
   "cell_type": "code",
   "execution_count": 145,
   "id": "45204ae0",
   "metadata": {},
   "outputs": [
    {
     "name": "stdout",
     "output_type": "stream",
     "text": [
      "2\n",
      "3\n",
      "5\n",
      "7\n",
      "11\n",
      "13\n",
      "17\n",
      "19\n",
      "23\n",
      "29\n",
      "31\n",
      "37\n",
      "41\n",
      "43\n",
      "47\n",
      "53\n",
      "59\n",
      "61\n",
      "67\n",
      "71\n",
      "73\n",
      "79\n",
      "83\n",
      "89\n",
      "97\n"
     ]
    }
   ],
   "source": [
    "def findPrime():\n",
    "    for i in range(2,101):\n",
    "        is_prime = True\n",
    "        for j in range(2,int(i**0.5)+1):\n",
    "            if i%j==0:\n",
    "                is_prime = False\n",
    "                break\n",
    "        if is_prime:\n",
    "            print(i)\n",
    "findPrime()"
   ]
  },
  {
   "cell_type": "markdown",
   "id": "00b14095",
   "metadata": {},
   "source": [
    "<h3>1.12. Write the programs for the followingM</h3>"
   ]
  },
  {
   "cell_type": "code",
   "execution_count": 148,
   "id": "dce72b9b",
   "metadata": {},
   "outputs": [
    {
     "name": "stdout",
     "output_type": "stream",
     "text": [
      "A\n"
     ]
    }
   ],
   "source": [
    "def marks(phy, csc, chem, maths, sports):\n",
    "    sum = phy+ csc+chem+maths+sports\n",
    "    avg = (sum/5)*100\n",
    "    if avg>85:\n",
    "        print('A')\n",
    "    elif 85<=avg>=75:\n",
    "        print('B')\n",
    "    elif 75<=avg>=50:\n",
    "        print('C')\n",
    "    elif 50<=avg>=30:\n",
    "        print('D')\n",
    "    else:\n",
    "        print(\"Reappear\")\n",
    "marks(78,90,67,95,87)\n",
    "    \n",
    "    "
   ]
  },
  {
   "cell_type": "markdown",
   "id": "a9f0f9b1",
   "metadata": {},
   "source": [
    "<h3>1.13. Write a program for VIBGYOR Spectrum based on their Wavelength using.\n",
    "Wavelength Range:</h3>"
   ]
  },
  {
   "cell_type": "code",
   "execution_count": 149,
   "id": "6739bf20",
   "metadata": {},
   "outputs": [
    {
     "data": {
      "text/plain": [
       "'Indigo'"
      ]
     },
     "execution_count": 149,
     "metadata": {},
     "output_type": "execute_result"
    }
   ],
   "source": [
    "def determine_color(wavelength):\n",
    "    if 380 <= wavelength < 450:\n",
    "        return \"Violet\"\n",
    "    elif 450 <= wavelength < 485:\n",
    "        return \"Indigo\"\n",
    "    elif 485 <= wavelength < 500:\n",
    "        return \"Blue\"\n",
    "    elif 500 <= wavelength < 570:\n",
    "        return \"Green\"\n",
    "    elif 570 <= wavelength < 590:\n",
    "        return \"Yellow\"\n",
    "    elif 590 <= wavelength < 620:\n",
    "        return \"Orange\"\n",
    "    elif 620 <= wavelength <= 750:\n",
    "        return \"Red\"\n",
    "    else:\n",
    "        return \"Wavelength out of range\"\n",
    "\n",
    "determine_color(456)\n"
   ]
  },
  {
   "cell_type": "markdown",
   "id": "837df5a0",
   "metadata": {},
   "source": [
    "<h3>1.14.Consider the gravitational interactions between the Earth, Moon, and Sun in our solar system.\n",
    "Given:</h3>"
   ]
  },
  {
   "cell_type": "code",
   "execution_count": 5,
   "id": "9f320d1a",
   "metadata": {},
   "outputs": [
    {
     "name": "stdout",
     "output_type": "stream",
     "text": [
      "Gravitational force between Earth and Sun: 1.76e+22 Newtons\n",
      "Gravitational force between Moon and Earth: 1.98e+20 Newtons\n",
      "The gravitational force between Earth and the Sun is stronger.\n",
      "Conclusion: Earth is more attracted to the Sun.\n"
     ]
    }
   ],
   "source": [
    "# Constants\n",
    "G = 6.67430e-11  \n",
    "\n",
    "# Given data\n",
    "mass_earth = 5.972e24 \n",
    "mass_moon = 7.34767309e22  \n",
    "mass_sun = 0.989e30\n",
    "distance_earth_sun = 1.496e11  \n",
    "distance_moon_earth = 3.844e8  \n",
    "\n",
    "def calculate_gravitational_force(m1, m2, d):\n",
    "    return G * m1 * m2 / (d ** 2)\n",
    "\n",
    "force_earth_sun = calculate_gravitational_force(mass_earth, mass_sun, distance_earth_sun)\n",
    "force_moon_earth = calculate_gravitational_force(mass_moon, mass_earth, distance_moon_earth)\n",
    "\n",
    "print(f\"Gravitational force between Earth and Sun: {force_earth_sun:.2e} Newtons\")\n",
    "print(f\"Gravitational force between Moon and Earth: {force_moon_earth:.2e} Newtons\")\n",
    "\n",
    "if force_earth_sun > force_moon_earth:\n",
    "    print(\"The gravitational force between Earth and the Sun is stronger.\")\n",
    "    print(\"Conclusion: Earth is more attracted to the Sun.\")\n",
    "elif force_moon_earth > force_earth_sun:\n",
    "    print(\"The gravitational force between Moon and Earth is stronger.\")\n",
    "    print(\"Conclusion: Earth is more attracted to the Moon.\")\n",
    "else:\n",
    "    print(\"The gravitational forces are equal.\")\n",
    "\n"
   ]
  },
  {
   "cell_type": "markdown",
   "id": "95ea6c65",
   "metadata": {},
   "source": [
    "<h3>OOPS</h3>"
   ]
  },
  {
   "cell_type": "code",
   "execution_count": 18,
   "id": "31d81c2a",
   "metadata": {},
   "outputs": [
    {
     "name": "stdout",
     "output_type": "stream",
     "text": [
      "19\n",
      "Joe\n",
      "James\n"
     ]
    }
   ],
   "source": [
    "#Question 2\n",
    "class Student:\n",
    "    def __init__(self, name, age, student_id):\n",
    "        self.__name = name\n",
    "        self.__age = age\n",
    "        self.__student_id = student_id\n",
    "    def get_name(self):\n",
    "        return self.__name\n",
    "    def set_name(self, name):\n",
    "        self.__name = name\n",
    "    def get_age(self):\n",
    "        return self.__age\n",
    "    def set_age(self, age):\n",
    "        self.__age = age\n",
    "    def get_student_id(self):\n",
    "        return self.__student_id\n",
    "    def set_student_id(self, student_id):\n",
    "        self.__student_id = student_id\n",
    "    def display(self):\n",
    "        print(f\"Name: {self.__name}\")\n",
    "        print(f\"Age: {self.__age}\")\n",
    "        print(f\"Student ID: {self.__student_id}\")\n",
    "s1 = Student(\"Joe\",19,\"ABC123\")    \n",
    "print(s1.get_age())\n",
    "print(s1.get_name()) \n",
    "s1.set_name(\"James\")\n",
    "print(s1.get_name())\n",
    "                                                                                                            "
   ]
  },
  {
   "cell_type": "code",
   "execution_count": 20,
   "id": "17d34fa2",
   "metadata": {},
   "outputs": [
    {
     "name": "stdout",
     "output_type": "stream",
     "text": [
      "DSA borrowed\n",
      "DSA returned\n",
      "DSA borrowed\n"
     ]
    }
   ],
   "source": [
    "#Question 3\n",
    "class LibraryBook:\n",
    "    def __init__(self, name, author, available=True):\n",
    "        self.__name = name\n",
    "        self.__author = author\n",
    "        self.__available = available\n",
    "\n",
    "    def get_name(self):\n",
    "        return self.__name\n",
    "\n",
    "    def get_author(self):\n",
    "        return self.__author\n",
    "\n",
    "    def set_name(self, name):\n",
    "        self.__name = name\n",
    "\n",
    "    def set_author(self, author):\n",
    "        self.__author = author\n",
    "\n",
    "    def get_availability(self):\n",
    "        return self.__available\n",
    "\n",
    "    def set_availability(self, available):\n",
    "        self.__available = available\n",
    "\n",
    "class Library:\n",
    "    def __init__(self):\n",
    "        self.store = []\n",
    "\n",
    "    def add_book(self, book):\n",
    "        self.store.append(book)\n",
    "\n",
    "    def borrow(self, book):\n",
    "        if book.get_availability() and book in self.store:\n",
    "            print(f\"{book.get_name()} borrowed\")\n",
    "            book.set_availability(False)\n",
    "        else:\n",
    "            print(f\"{book.get_name()} is already borrowed or not in the library\")\n",
    "\n",
    "    def return_book(self, book):\n",
    "        if not book.get_availability():\n",
    "            print(f\"{book.get_name()} returned\")\n",
    "            book.set_availability(True)\n",
    "        else:\n",
    "            print(f\"{book.get_name()} is already returned or not borrowed\")\n",
    "\n",
    "lib = Library()\n",
    "\n",
    "book1 = LibraryBook(\"DSA\", \"Joe\")\n",
    "book2 = LibraryBook(\"AIML\", \"Jane\")\n",
    "\n",
    "lib.add_book(book1)\n",
    "lib.add_book(book2)\n",
    "\n",
    "lib.borrow(book1)\n",
    "lib.return_book(book1)\n",
    "\n",
    "lib.borrow(book1)\n"
   ]
  },
  {
   "cell_type": "code",
   "execution_count": 25,
   "id": "ff221041",
   "metadata": {},
   "outputs": [
    {
     "name": "stdout",
     "output_type": "stream",
     "text": [
      "Balance: 1000\n",
      "Balance: 1500\n",
      "Balance: 1300\n",
      "Balance after 10 years: 2117.5630148106748\n"
     ]
    }
   ],
   "source": [
    "#Question 4\n",
    "import datetime\n",
    "class BankAccount:\n",
    "    def __init__(self, name, balance):\n",
    "        self.__name = name \n",
    "        self.__balance = balance\n",
    "    def withdraw(self, amount):\n",
    "        if amount <= self.__balance:\n",
    "            self.__balance -= amount\n",
    "        else:\n",
    "            print(\"Insufficient balance\")\n",
    "    def deposit(self, amount):\n",
    "        self.__balance += amount\n",
    "    def show_balance(self):\n",
    "        print(f\"Balance: {self.__balance}\")\n",
    "    def get_balance(self):\n",
    "        return self.__balance\n",
    "    def set_balance(self, balance):\n",
    "        self.__balance = balance\n",
    "class SavingsAccount(BankAccount):\n",
    "    def __init__(self, name, balance, interest, time):\n",
    "        super().__init__(name, balance)\n",
    "        self.__interest = interest\n",
    "        self.__time = time\n",
    "        self.__number_of_withdrawals = 5\n",
    "        self.__last_checked_date = datetime.datetime.now().date()\n",
    "    def balance_after_n_years(self):\n",
    "        return self.get_balance() * (1 + self.__interest / 100) ** self.__time\n",
    "    def withdraw_from_SA(self, amount):\n",
    "        now = datetime.datetime.now()\n",
    "        if now.date() != self.__last_checked_date:\n",
    "            self.__number_of_withdrawals = 5\n",
    "            self.__last_checked_date = now.date()\n",
    "        if self.__number_of_withdrawals > 0:\n",
    "            self.withdraw(amount)\n",
    "            self.__number_of_withdrawals -= 1\n",
    "        else:\n",
    "            print(\"You have reached your daily withdrawal limit\")\n",
    "            \n",
    "sa = SavingsAccount(\"John Doe\", 1000, 5, 10)\n",
    "sa.show_balance()\n",
    "sa.deposit(500)\n",
    "sa.show_balance()\n",
    "sa.withdraw_from_SA(200)\n",
    "sa.show_balance()\n",
    "\n",
    "\n",
    "print(f\"Balance after 10 years: {sa.balance_after_n_years()}\")          \n",
    "        "
   ]
  },
  {
   "cell_type": "code",
   "execution_count": 28,
   "id": "fddaa98a",
   "metadata": {},
   "outputs": [
    {
     "name": "stdout",
     "output_type": "stream",
     "text": [
      "Woof Woof\n",
      "Meow Meow\n"
     ]
    }
   ],
   "source": [
    "#Question 5\n",
    "class Animal:\n",
    "    def make_sound(self):\n",
    "        pass\n",
    "class Cat(Animal):\n",
    "    def make_sound(self):\n",
    "        return \"Meow Meow\"\n",
    "class Dog(Animal):\n",
    "    def make_sound(self):\n",
    "        return \"Woof Woof\"\n",
    "dog = Dog()\n",
    "cat = Cat()\n",
    "\n",
    "print(dog.make_sound())\n",
    "print(cat.make_sound())"
   ]
  },
  {
   "cell_type": "code",
   "execution_count": 13,
   "id": "6d314825",
   "metadata": {},
   "outputs": [
    {
     "name": "stdout",
     "output_type": "stream",
     "text": [
      "Beverages\n",
      "\n",
      "1\n",
      "Lassi\n",
      "Youghurt Smoothie\n",
      "10\n",
      "Indian\n",
      "\n",
      "2\n",
      "Lemonade\n",
      "Water and Lemon\n",
      "10\n",
      "American\n",
      "Food Items\n",
      "\n",
      "1\n",
      "Hakka Noodles\n",
      "Pan Fried With Vegetables\n",
      "100\n",
      "Chinese\n",
      "\n",
      "2\n",
      "Panner Tikka\n",
      "Grilled Marinated Panner\n",
      "50\n",
      "Indian\n"
     ]
    }
   ],
   "source": [
    "#Question 6\n",
    "class MenuItem:\n",
    "    def __init__(self, name, description, price, category):\n",
    "        self.name = name\n",
    "        self.description = description\n",
    "        self.price = price \n",
    "        self.category = category\n",
    "        \n",
    "class Menu:\n",
    "    def __init__(self):\n",
    "        self.foodmenu = []\n",
    "        self.beveragemenu = []\n",
    "    def add_food(self, food):\n",
    "        self.foodmenu.append({'name':food.name,'Description':food.description,'Price':food.price,'Category':food.category})\n",
    "    def add_beverage(self, beverage):\n",
    "        self.beveragemenu.append({'name':beverage.name,'Description':beverage.description,'Price':beverage.price,'Category':beverage.category})\n",
    "    def show_food(self):\n",
    "        i=0\n",
    "        for _ in self.foodmenu:\n",
    "            print(f\"\"\"\n",
    "{i+1}\n",
    "{self.foodmenu[i]['name']}\n",
    "{self.foodmenu[i]['Description']}\n",
    "{self.foodmenu[i]['Price']}\n",
    "{self.foodmenu[i]['Category']}\"\"\")\n",
    "            i+=1\n",
    "    def show_bev(self):\n",
    "        i=0\n",
    "        for _ in self.foodmenu:\n",
    "            print(f\"\"\"\n",
    "{i+1}\n",
    "{self.beveragemenu[i]['name']}\n",
    "{self.beveragemenu[i]['Description']}\n",
    "{self.beveragemenu[i]['Price']}\n",
    "{self.beveragemenu[i]['Category']}\"\"\")\n",
    "            i+=1   \n",
    "    def show_menu(self):\n",
    "        print(\"Beverages\")\n",
    "        self.show_bev()\n",
    "        print(\"Food Items\")\n",
    "        self.show_food()\n",
    "        \n",
    "class Food(MenuItem):\n",
    "    def __init__(self,name, description, price, category):\n",
    "        super().__init__(name, description, price, category)\n",
    "        \n",
    "class Beverage(MenuItem):\n",
    "    def __init__(self,name, description, price, category):\n",
    "        super().__init__(name, description, price, category)\n",
    "food1 = Food(\"Hakka Noodles\",\"Pan Fried With Vegetables\",100,\"Chinese\")\n",
    "food2 = Food(\"Panner Tikka\", \"Grilled Marinated Panner\",50,\"Indian\")\n",
    "beverage1 = Beverage(\"Lassi\",\"Youghurt Smoothie\", 10,\"Indian\")\n",
    "beverage2 = Beverage(\"Lemonade\",\"Water and Lemon\",10,\"American\")\n",
    "\n",
    "me = Menu()\n",
    "me.add_food(food1)\n",
    "me.add_food(food2)\n",
    "me.add_beverage(beverage1)\n",
    "me.add_beverage(beverage2)\n",
    "me.show_menu()\n",
    "        "
   ]
  },
  {
   "cell_type": "code",
   "execution_count": 18,
   "id": "5958e006",
   "metadata": {},
   "outputs": [
    {
     "name": "stdout",
     "output_type": "stream",
     "text": [
      "Room 101 booked successfully.\n",
      "Room 101 is not available for check-in.\n",
      "Guest checked out of room 101.\n",
      "Room 102 booked successfully.\n",
      "Room 102 is not available for check-in.\n",
      "Guest checked out of room 102.\n",
      "Suite Room Amenities: ['Jacuzzi', 'Mini Bar']\n"
     ]
    }
   ],
   "source": [
    "#Question 7\n",
    "class Room:\n",
    "    def __init__(self, room_number, room_type, rate):\n",
    "        self.__room_number = room_number\n",
    "        self.__room_type = room_type\n",
    "        self.__rate = rate\n",
    "        self.__availability = True\n",
    "    \n",
    "    def book_room(self):\n",
    "        if self.__availability:\n",
    "            self.__availability = False\n",
    "            print(f\"Room {self.__room_number} booked successfully.\")\n",
    "        else:\n",
    "            print(f\"Room {self.__room_number} is already booked.\")\n",
    "    \n",
    "    def check_in(self):\n",
    "        if self.__availability:\n",
    "            self.__availability = False\n",
    "            print(f\"Guest checked into room {self.__room_number}.\")\n",
    "        else:\n",
    "            print(f\"Room {self.__room_number} is not available for check-in.\")\n",
    "    \n",
    "    def check_out(self):\n",
    "        if not self.__availability:\n",
    "            self.__availability = True\n",
    "            print(f\"Guest checked out of room {self.__room_number}.\")\n",
    "        else:\n",
    "            print(f\"Room {self.__room_number} is already available.\")\n",
    "    \n",
    "    def get_room_number(self):\n",
    "        return self.__room_number\n",
    "class SuiteRoom(Room):\n",
    "    def __init__(self, room_number, rate, amenities):\n",
    "        super().__init__(room_number, \"Suite\", rate)\n",
    "        self.__amenities = amenities\n",
    "    \n",
    "    def get_amenities(self):\n",
    "        return self.__amenities\n",
    "\n",
    "class StandardRoom(Room):\n",
    "    def __init__(self, room_number, rate):\n",
    "        super().__init__(room_number, \"Standard\", rate)\n",
    "\n",
    "# Testing the Hotel Management System\n",
    "\n",
    "suite = SuiteRoom(101, 200, [\"Jacuzzi\", \"Mini Bar\"])\n",
    "standard = StandardRoom(102, 100)\n",
    "    \n",
    "suite.book_room()\n",
    "suite.check_in()   \n",
    "suite.check_out() \n",
    "    \n",
    "standard.book_room()  \n",
    "standard.check_in()   \n",
    "standard.check_out()  \n",
    "\n",
    "print(f\"Suite Room Amenities: {suite.get_amenities()}\") \n"
   ]
  },
  {
   "cell_type": "code",
   "execution_count": 19,
   "id": "0c12bb98",
   "metadata": {},
   "outputs": [
    {
     "name": "stdout",
     "output_type": "stream",
     "text": [
      "Member Smith Family registered successfully.\n",
      "Membership for Smith Family renewed.\n",
      "Membership for Smith Family cancelled.\n",
      "Member Alice registered successfully.\n",
      "Membership for Alice renewed.\n",
      "Membership for Alice cancelled.\n",
      "Family Members: ['John', 'Jane', 'Jake']\n"
     ]
    }
   ],
   "source": [
    "#Question 8\n",
    "class Member:\n",
    "    def __init__(self, member_id, name, age, membership_type):\n",
    "        self.__member_id = member_id\n",
    "        self.__name = name\n",
    "        self.__age = age\n",
    "        self.__membership_type = membership_type\n",
    "        self.__membership_status = \"Active\"\n",
    "    \n",
    "    def register_member(self):\n",
    "        print(f\"Member {self.__name} registered successfully.\")\n",
    "    \n",
    "    def renew_membership(self):\n",
    "        if self.__membership_status == \"Active\":\n",
    "            print(f\"Membership for {self.__name} renewed.\")\n",
    "        else:\n",
    "            print(f\"Cannot renew. Membership for {self.__name} is not active.\")\n",
    "    \n",
    "    def cancel_membership(self):\n",
    "        if self.__membership_status == \"Active\":\n",
    "            self.__membership_status = \"Inactive\"\n",
    "            print(f\"Membership for {self.__name} cancelled.\")\n",
    "        else:\n",
    "            print(f\"Membership for {self.__name} is already inactive.\")\n",
    "\n",
    "    def get_member_id(self):\n",
    "        return self.__member_id\n",
    "    \n",
    "class FamilyMember(Member):\n",
    "    def __init__(self, member_id, name, age, family_members):\n",
    "        super().__init__(member_id, name, age, \"Family\")\n",
    "        self.__family_members = family_members\n",
    "    \n",
    "    def get_family_members(self):\n",
    "        return self.__family_members\n",
    "\n",
    "class IndividualMember(Member):\n",
    "    def __init__(self, member_id, name, age):\n",
    "        super().__init__(member_id, name, age, \"Individual\")\n",
    "\n",
    "\n",
    "family_member = FamilyMember(1, \"Smith Family\", 45, [\"John\", \"Jane\", \"Jake\"])\n",
    "individual_member = IndividualMember(2, \"Alice\", 30)\n",
    "    \n",
    "family_member.register_member()\n",
    "family_member.renew_membership()  \n",
    "family_member.cancel_membership()  \n",
    "    \n",
    "individual_member.register_member() \n",
    "individual_member.renew_membership() \n",
    "individual_member.cancel_membership()  \n",
    "\n",
    "print(f\"Family Members: {family_member.get_family_members()}\")  \n"
   ]
  },
  {
   "cell_type": "code",
   "execution_count": 21,
   "id": "cf8b07dc",
   "metadata": {},
   "outputs": [
    {
     "name": "stdout",
     "output_type": "stream",
     "text": [
      "Event 'Private Party' created successfully.\n",
      "Event 'Public Concert' created successfully.\n",
      "Attendee 'Alice' added to the event 'Private Party'.\n",
      "Attendee 'Bob' added to the event 'Private Party'.\n",
      "Attendee 'Charlie' added to the event 'Public Concert'.\n",
      "Total attendees for private event: 2\n",
      "Total attendees for public event: 1\n",
      "Attendee 'Alice' removed from the event 'Private Party'.\n",
      "Total attendees for private event: 1\n"
     ]
    }
   ],
   "source": [
    "#Qeustion 9\n",
    "class Event:\n",
    "    def __init__(self, event_id, name, date, time, location):\n",
    "        self.__event_id = event_id\n",
    "        self.__name = name\n",
    "        self.__date = date\n",
    "        self.__time = time\n",
    "        self.__location = location\n",
    "        self.__attendees = []\n",
    "    def create_event(self):\n",
    "        print(f\"Event '{self.__name}' created successfully.\")\n",
    "    def add_attendee(self, attendee):\n",
    "        self.__attendees.append(attendee)\n",
    "        print(f\"Attendee '{attendee}' added to the event '{self.__name}'.\")\n",
    "    \n",
    "    def remove_attendee(self, attendee):\n",
    "        if attendee in self.__attendees:\n",
    "            self.__attendees.remove(attendee)\n",
    "            print(f\"Attendee '{attendee}' removed from the event '{self.__name}'.\")\n",
    "        else:\n",
    "            print(f\"Attendee '{attendee}' not found in the event '{self.__name}'.\")\n",
    "    \n",
    "    def get_total_attendees(self):\n",
    "        return len(self.__attendees)\n",
    "    \n",
    "    def get_event_id(self):\n",
    "        return self.__event_id\n",
    "    \n",
    "class PrivateEvent(Event):\n",
    "    def __init__(self, event_id, name, date, time, location, invite_only=True):\n",
    "        super().__init__(event_id, name, date, time, location)\n",
    "        self.__invite_only = invite_only\n",
    "\n",
    "class PublicEvent(Event):\n",
    "    def __init__(self, event_id, name, date, time, location, public_access=True):\n",
    "        super().__init__(event_id, name, date, time, location)\n",
    "        self.__public_access = public_access\n",
    "if __name__ == \"__main__\":\n",
    "    private_event = PrivateEvent(1, \"Private Party\", \"2023-08-01\", \"18:00\", \"Private Venue\")\n",
    "    public_event = PublicEvent(2, \"Public Concert\", \"2023-08-01\", \"20:00\", \"Public Park\")\n",
    "    \n",
    "    private_event.create_event()  \n",
    "    public_event.create_event() \n",
    "    \n",
    "    private_event.add_attendee(\"Alice\") \n",
    "    private_event.add_attendee(\"Bob\")   \n",
    "    public_event.add_attendee(\"Charlie\") \n",
    "    print(f\"Total attendees for private event: {private_event.get_total_attendees()}\") \n",
    "    print(f\"Total attendees for public event: {public_event.get_total_attendees()}\")   \n",
    "    private_event.remove_attendee(\"Alice\") \n",
    "    print(f\"Total attendees for private event: {private_event.get_total_attendees()}\") \n"
   ]
  },
  {
   "cell_type": "code",
   "execution_count": 22,
   "id": "cd673fab",
   "metadata": {},
   "outputs": [
    {
     "name": "stdout",
     "output_type": "stream",
     "text": [
      "Seat booked successfully on flight D123.\n",
      "Seat booked successfully on flight I456.\n",
      "Remaining seats on domestic flight: 99\n",
      "Remaining seats on international flight: 199\n",
      "Reservation cancelled on flight D123.\n",
      "Reservation cancelled on flight I456.\n",
      "Remaining seats on domestic flight: 100\n",
      "Remaining seats on international flight: 200\n"
     ]
    }
   ],
   "source": [
    "#Question 10\n",
    "class Flight:\n",
    "    def __init__(self, flight_number, departure_airport, arrival_airport, departure_time, arrival_time, available_seats):\n",
    "        self.__flight_number = flight_number\n",
    "        self.departure_airport = departure_airport\n",
    "        self.arrival_airport = arrival_airport\n",
    "        self.departure_time = departure_time\n",
    "        self.arrival_time = arrival_time\n",
    "        self.__available_seats = available_seats\n",
    "    def book_seat(self):\n",
    "        if self.__available_seats > 0:\n",
    "            self.__available_seats -= 1\n",
    "            print(f\"Seat booked successfully on flight {self.__flight_number}.\")\n",
    "        else:\n",
    "            print(\"No available seats.\")\n",
    "    def cancel_reservation(self):\n",
    "        self.__available_seats += 1\n",
    "        print(f\"Reservation cancelled on flight {self.__flight_number}.\")\n",
    "    def get_remaining_seats(self):\n",
    "        return self.__available_seats\n",
    "    def get_flight_number(self):\n",
    "        return self.__flight_number\n",
    "class DomesticFlight(Flight):\n",
    "    def __init__(self, flight_number, departure_airport, arrival_airport, departure_time, arrival_time, available_seats, domestic_tax):\n",
    "        super().__init__(flight_number, departure_airport, arrival_airport, departure_time, arrival_time, available_seats)\n",
    "        self.domestic_tax = domestic_tax\n",
    "class InternationalFlight(Flight):\n",
    "    def __init__(self, flight_number, departure_airport, arrival_airport, departure_time, arrival_time, available_seats, international_fee):\n",
    "        super().__init__(flight_number, departure_airport, arrival_airport, departure_time, arrival_time, available_seats)\n",
    "        self.international_fee = international_fee\n",
    "domestic_flight = DomesticFlight(\"D123\", \"JFK\", \"LAX\", \"10:00\", \"13:00\", 100, 50)\n",
    "international_flight = InternationalFlight(\"I456\", \"JFK\", \"LHR\", \"16:00\", \"06:00\", 200, 100)\n",
    "\n",
    "domestic_flight.book_seat() \n",
    "international_flight.book_seat() \n",
    "print(f\"Remaining seats on domestic flight: {domestic_flight.get_remaining_seats()}\")  \n",
    "print(f\"Remaining seats on international flight: {international_flight.get_remaining_seats()}\")  \n",
    "domestic_flight.cancel_reservation() \n",
    "international_flight.cancel_reservation()  \n",
    "print(f\"Remaining seats on domestic flight: {domestic_flight.get_remaining_seats()}\")  \n",
    "print(f\"Remaining seats on international flight: {international_flight.get_remaining_seats()}\")  \n"
   ]
  },
  {
   "cell_type": "markdown",
   "id": "456715ba",
   "metadata": {},
   "source": [
    "<h3>Flask Questions</h3>"
   ]
  },
  {
   "cell_type": "code",
   "execution_count": 21,
   "id": "b62aaa3b",
   "metadata": {},
   "outputs": [
    {
     "name": "stdout",
     "output_type": "stream",
     "text": [
      "   user_id  flight_id  hotel_id booking_date\n",
      "0        1        101       201   2024-07-10\n",
      "1        2        102       202   2024-07-11\n",
      "2        3        103       203   2024-07-12\n",
      "3        4        104       204   2024-07-13\n"
     ]
    },
    {
     "name": "stderr",
     "output_type": "stream",
     "text": [
      "C:\\Users\\arush\\AppData\\Local\\Temp\\ipykernel_47048\\1514596683.py:14: UserWarning: pandas only supports SQLAlchemy connectable (engine/connection) or database string URI or sqlite3 DBAPI2 connection. Other DBAPI2 objects are not tested. Please consider using SQLAlchemy.\n",
      "  df = pd.read_sql(query, conn)\n"
     ]
    }
   ],
   "source": [
    "#Question 2\n",
    "import pandas as pd\n",
    "import mysql.connector\n",
    "\n",
    "# Establish a connection to the MySQL database\n",
    "conn = mysql.connector.connect(\n",
    "    host=\"localhost\",\n",
    "    username=\"root\",\n",
    "    password=\"\",\n",
    "    database=\"db\"\n",
    ")\n",
    "\n",
    "query = \"SELECT * FROM bookings\"\n",
    "df = pd.read_sql(query, conn)\n",
    "conn.close()\n",
    "print(df)\n"
   ]
  }
 ],
 "metadata": {
  "kernelspec": {
   "display_name": "Python 3 (ipykernel)",
   "language": "python",
   "name": "python3"
  },
  "language_info": {
   "codemirror_mode": {
    "name": "ipython",
    "version": 3
   },
   "file_extension": ".py",
   "mimetype": "text/x-python",
   "name": "python",
   "nbconvert_exporter": "python",
   "pygments_lexer": "ipython3",
   "version": "3.12.2"
  }
 },
 "nbformat": 4,
 "nbformat_minor": 5
}
